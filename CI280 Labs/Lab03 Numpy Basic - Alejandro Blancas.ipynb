{
 "cells": [
  {
   "cell_type": "code",
   "execution_count": null,
   "metadata": {},
   "outputs": [],
   "source": [
    "# Name: Alejandro Blancas\n",
    "# Lab03 Numpy Basics\n",
    "# Date: October 15, 2020"
   ]
  },
  {
   "cell_type": "code",
   "execution_count": 26,
   "metadata": {},
   "outputs": [
    {
     "name": "stdout",
     "output_type": "stream",
     "text": [
      "[ 0  1  2  3  4  5  6  7  8  9 10 11]\n"
     ]
    }
   ],
   "source": [
    "# NumPy Basics\n",
    "import numpy as np\n",
    "\n",
    "s = np.arange(12)\n",
    "print(s)"
   ]
  },
  {
   "cell_type": "code",
   "execution_count": 5,
   "metadata": {},
   "outputs": [
    {
     "data": {
      "text/plain": [
       "array([ 0,  1,  2,  3,  4,  5,  6,  7,  8,  9, 10, 11])"
      ]
     },
     "execution_count": 5,
     "metadata": {},
     "output_type": "execute_result"
    }
   ],
   "source": [
    "# 1) Show all element of s\n",
    "s"
   ]
  },
  {
   "cell_type": "code",
   "execution_count": 6,
   "metadata": {},
   "outputs": [
    {
     "name": "stdout",
     "output_type": "stream",
     "text": [
      "2\n",
      "11\n"
     ]
    }
   ],
   "source": [
    "# 2) Show the third element of s\n",
    "print(s[2])\n",
    "# 2) Show the last element of s\n",
    "print(s[-1])"
   ]
  },
  {
   "cell_type": "code",
   "execution_count": 20,
   "metadata": {},
   "outputs": [
    {
     "name": "stdout",
     "output_type": "stream",
     "text": [
      "[ 2  3  4  5  6  7  8  9 10 11]\n",
      "[2 3 4 5 6]\n",
      "[ 0  1  2  3  4  5  6  7  8  9 10]\n"
     ]
    }
   ],
   "source": [
    "# 3) Show the third to last element of s\n",
    "print(s[2:])\n",
    "# Show the third to seventh element of s\n",
    "print(s[2:7])\n",
    "print(s[0:-1])"
   ]
  },
  {
   "cell_type": "code",
   "execution_count": 22,
   "metadata": {},
   "outputs": [
    {
     "name": "stdout",
     "output_type": "stream",
     "text": [
      "66\n",
      "0\n",
      "5.5\n",
      "11\n"
     ]
    }
   ],
   "source": [
    "# 4) Show the total of s\n",
    "print(np.sum(s))\n",
    "# Show the smallest value of s\n",
    "print(np.min(s))\n",
    "# Show the average value of s\n",
    "print(np.mean(s))\n",
    "# Show the largest value of s\n",
    "print(np.max(s))"
   ]
  },
  {
   "cell_type": "code",
   "execution_count": 23,
   "metadata": {},
   "outputs": [
    {
     "name": "stdout",
     "output_type": "stream",
     "text": [
      "[ 0 -1  2  3  4  5  6  7  8  9 10 11]\n",
      "[ 0 -1  2  3  4  5  6  7  8  9 10 11]\n"
     ]
    }
   ],
   "source": [
    "# 5) if array change values, will s change values too? why?\n",
    "# Yes, because the value changed using pass-by-reference\n",
    "# show s values\n",
    "arry = s\n",
    "arry[1]= -1\n",
    "print(s)\n",
    "print(arry)"
   ]
  },
  {
   "cell_type": "code",
   "execution_count": 27,
   "metadata": {},
   "outputs": [
    {
     "name": "stdout",
     "output_type": "stream",
     "text": [
      "[[1, 2, 3], [4, 5, 6], [7, 8, 9]]\n"
     ]
    }
   ],
   "source": [
    "data = [[1,2,3],\n",
    "        [4,5,6],\n",
    "        [7,8,9]]\n",
    "print(data)\n",
    "\n",
    "# print(data.shape) <-- Output: This will give an error because its a list, not an array."
   ]
  },
  {
   "cell_type": "code",
   "execution_count": 28,
   "metadata": {},
   "outputs": [
    {
     "name": "stdout",
     "output_type": "stream",
     "text": [
      "[[1 2 3]\n",
      " [4 5 6]\n",
      " [7 8 9]]\n"
     ]
    }
   ],
   "source": [
    "matrix = np.array(data)\n",
    "print(matrix)"
   ]
  },
  {
   "cell_type": "code",
   "execution_count": 29,
   "metadata": {},
   "outputs": [
    {
     "name": "stdout",
     "output_type": "stream",
     "text": [
      "(3, 3)\n"
     ]
    }
   ],
   "source": [
    "# What is the output? --> It will show (3,3) for 3 rows 3 columns\n",
    "print(matrix.shape)"
   ]
  },
  {
   "cell_type": "code",
   "execution_count": 32,
   "metadata": {},
   "outputs": [
    {
     "name": "stdout",
     "output_type": "stream",
     "text": [
      "2\n",
      "4\n"
     ]
    }
   ],
   "source": [
    "# 6)Show the element of first row of second col of matrix\n",
    "print(matrix[0,1])\n",
    "\n",
    "# 6)Show the element of second row of first col of matrix\n",
    "print(matrix[1,0])"
   ]
  },
  {
   "cell_type": "code",
   "execution_count": 34,
   "metadata": {},
   "outputs": [
    {
     "name": "stdout",
     "output_type": "stream",
     "text": [
      "[[1 2 3]\n",
      " [4 5 6]\n",
      " [7 8 9]]\n",
      "-------\n",
      "[1 2 3]\n",
      "-------\n",
      "[4 5 6]\n",
      "-------\n",
      "[7 8 9]\n",
      "-------\n"
     ]
    }
   ],
   "source": [
    "print(matrix)\n",
    "print(\"-------\")\n",
    "#7)Show all elements of first row in matrix\n",
    "print(matrix[0])\n",
    "print(\"-------\")\n",
    "#  Show all elements of second row in matrix\n",
    "print(matrix[1])\n",
    "print(\"-------\")\n",
    "# Show all elements of last row in matrix\n",
    "print(matrix[-1])\n",
    "print(\"-------\")"
   ]
  },
  {
   "cell_type": "code",
   "execution_count": 37,
   "metadata": {},
   "outputs": [
    {
     "name": "stdout",
     "output_type": "stream",
     "text": [
      "[1 4 7]\n",
      "-------\n",
      "[2 5 8]\n",
      "-------\n",
      "[3 6 9]\n"
     ]
    }
   ],
   "source": [
    "# 8) Show all elements of first col in matrix\n",
    "print(matrix[:,0])\n",
    "print(\"-------\")\n",
    "# Show all elements of third col in matrix\n",
    "print(matrix[:,1])\n",
    "print(\"-------\")\n",
    "# Show all elements of last col in matrix\n",
    "print(matrix[:,-1])"
   ]
  },
  {
   "cell_type": "code",
   "execution_count": 53,
   "metadata": {},
   "outputs": [
    {
     "name": "stdout",
     "output_type": "stream",
     "text": [
      "[[1 2 3]\n",
      " [4 5 6]\n",
      " [7 8 9]]\n",
      "-------\n",
      "[5 6]\n"
     ]
    }
   ],
   "source": [
    "print( matrix)\n",
    "# Show second rows, and second col to last col's elements in matrix\n",
    "print(\"-------\")\n",
    "print(matrix[1,1:])\n"
   ]
  },
  {
   "cell_type": "code",
   "execution_count": 54,
   "metadata": {},
   "outputs": [
    {
     "name": "stdout",
     "output_type": "stream",
     "text": [
      "[[1 2 3]\n",
      " [4 5 6]\n",
      " [7 8 9]]\n",
      "[12 15 18]\n",
      "45\n",
      "-------\n",
      "1\n",
      "1\n",
      "-------\n",
      "5.0\n",
      "5.0\n",
      "-------\n",
      "9\n",
      "9\n",
      "-------\n",
      "15\n",
      "15\n"
     ]
    }
   ],
   "source": [
    "print(matrix)\n",
    "# 5) Show the total of s\n",
    "print(sum(matrix))\n",
    "print(np.sum(matrix))\n",
    "print(\"-------\")\n",
    "# Show the smallest value of s\n",
    "print(matrix.min())\n",
    "print(np.min(matrix))\n",
    "print(\"-------\")\n",
    "# Show the average value of s\n",
    "print(matrix.mean())\n",
    "print(np.mean(matrix))\n",
    "print(\"-------\")\n",
    "# Show the largest value of s\n",
    "print(matrix.max())\n",
    "print(np.max(matrix))\n",
    "print(\"-------\")\n",
    "# The sum of second col\n",
    "print(matrix[:,1].sum())\n",
    "print(np.sum(matrix[:,1]))"
   ]
  }
 ],
 "metadata": {
  "kernelspec": {
   "display_name": "Python 3",
   "language": "python",
   "name": "python3"
  },
  "language_info": {
   "codemirror_mode": {
    "name": "ipython",
    "version": 3
   },
   "file_extension": ".py",
   "mimetype": "text/x-python",
   "name": "python",
   "nbconvert_exporter": "python",
   "pygments_lexer": "ipython3",
   "version": "3.7.6"
  }
 },
 "nbformat": 4,
 "nbformat_minor": 2
}
