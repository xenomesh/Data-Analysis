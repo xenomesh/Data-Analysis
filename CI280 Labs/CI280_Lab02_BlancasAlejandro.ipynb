{
 "cells": [
  {
   "cell_type": "code",
   "execution_count": null,
   "metadata": {},
   "outputs": [],
   "source": [
    "# Name: Alejandro Blancas\n",
    "# 10/08/2020\n",
    "# Lab 02"
   ]
  },
  {
   "cell_type": "code",
   "execution_count": 2,
   "metadata": {},
   "outputs": [
    {
     "name": "stdout",
     "output_type": "stream",
     "text": [
      "[50, 20, 10, 80, 10]\n",
      "10\n",
      "Max =  80\n",
      "80\n",
      "Min =  10\n",
      "10\n",
      "Length =  5\n",
      "Element =  10\n"
     ]
    }
   ],
   "source": [
    "\n",
    "# Min & Max \n",
    "\n",
    "numbers = [50,20,10,80,10]\n",
    "print(numbers)\n",
    "print(numbers[2])\n",
    "\n",
    "max_value = max(numbers)\n",
    "max_index = numbers.index(max_value)\n",
    "print('Max = ', max_value)\n",
    "print(max_value)\n",
    "\n",
    "min_value = min(numbers)\n",
    "min_index = numbers.index(min_value)\n",
    "print('Min = ', min_value)\n",
    "print(min_value)\n",
    "\n",
    "print('Length = ', len(numbers))\n",
    "print('Element = ', numbers[len(numbers)-1])\n"
   ]
  },
  {
   "cell_type": "code",
   "execution_count": 5,
   "metadata": {},
   "outputs": [
    {
     "name": "stdout",
     "output_type": "stream",
     "text": [
      "['Steven', 'Will', 'Alicia']\n",
      "---\n",
      "Steven\n",
      "Will\n",
      "Alicia\n",
      "---\n"
     ]
    }
   ],
   "source": [
    "# Index\n",
    "\n",
    "names = ['Steven', 'Will', 'Alicia']\n",
    "print(names)\n",
    "\n",
    "print('---')\n",
    "for name in names:\n",
    "    print(name)\n",
    "print('---')\n",
    "index = 2"
   ]
  },
  {
   "cell_type": "code",
   "execution_count": 7,
   "metadata": {},
   "outputs": [
    {
     "name": "stdout",
     "output_type": "stream",
     "text": [
      "[0, 5, 10, 15]\n",
      "[0, 5, 10, 15, 0, 5, 10, 15, 0, 5, 10, 15]\n",
      "[0, 15, 30, 45]\n",
      "90\n",
      "22.5\n"
     ]
    }
   ],
   "source": [
    "#List using While\n",
    "\n",
    "num1 = list(range(0, 20, 5))\n",
    "print(num1)\n",
    "\n",
    "num2 = num1 * 3\n",
    "print(num2)\n",
    "\n",
    "index = 0\n",
    "while index < len(num1):\n",
    "    num1[index] = num1[index] * 3\n",
    "    index += 1\n",
    "print(num1)\n",
    "\n",
    "print(sum(num1))\n",
    "print(sum(num1)/len(num1))"
   ]
  },
  {
   "cell_type": "code",
   "execution_count": 8,
   "metadata": {},
   "outputs": [
    {
     "name": "stdout",
     "output_type": "stream",
     "text": [
      "[0, 10, 20, 30, 40, 50, 60, 70, 80, 90, 100]\n",
      "[0, 10, 20, 30, 40]\n",
      "[20, 30, 40]\n",
      "[70, 80, 90, 100]\n",
      "[80, 90, 100]\n"
     ]
    }
   ],
   "source": [
    "# List Slicing\n",
    "\n",
    "numbers = list(range(0, 101, 10))\n",
    "print(numbers)\n",
    "\n",
    "print(numbers[:5])\n",
    "print(numbers[2:5])\n",
    "print(numbers[7:])\n",
    "print(numbers[-3:])"
   ]
  },
  {
   "cell_type": "code",
   "execution_count": 11,
   "metadata": {},
   "outputs": [
    {
     "name": "stdout",
     "output_type": "stream",
     "text": [
      "['Chicago', 'Paris']\n",
      "1\n",
      "['Chicago', 'New York', 'Paris']\n",
      "['Paris', 'New York', 'Chicago']\n",
      "['Chicago', 'New York', 'Paris']\n",
      "['Chicago', 'Paris']\n"
     ]
    }
   ],
   "source": [
    "# Commonly used method\n",
    "\n",
    "cities = ['Chicago', 'Paris']\n",
    "print(cities)\n",
    "\n",
    "city_index = cities.index('Paris')\n",
    "print(city_index)\n",
    "\n",
    "cities.insert(1, 'New York')\n",
    "print(cities)\n",
    "\n",
    "cities.reverse()\n",
    "print(cities)\n",
    "\n",
    "cities.sort()\n",
    "print(cities)\n",
    "\n",
    "cities.remove('New York')\n",
    "print(cities)"
   ]
  }
 ],
 "metadata": {
  "kernelspec": {
   "display_name": "Python 3",
   "language": "python",
   "name": "python3"
  },
  "language_info": {
   "codemirror_mode": {
    "name": "ipython",
    "version": 3
   },
   "file_extension": ".py",
   "mimetype": "text/x-python",
   "name": "python",
   "nbconvert_exporter": "python",
   "pygments_lexer": "ipython3",
   "version": "3.7.6"
  }
 },
 "nbformat": 4,
 "nbformat_minor": 4
}
