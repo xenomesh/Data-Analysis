{
 "cells": [
  {
   "cell_type": "markdown",
   "metadata": {},
   "source": [
    "# Homework 3 (40 pts)"
   ]
  },
  {
   "cell_type": "markdown",
   "metadata": {},
   "source": [
    "\n",
    "Due Date: 11/12/2020 (Thursday 11:59 AM\n",
    "\n",
    "Save Notebook file as :HW2_YourStudentID.ipynb\n",
    "\n",
    "Upload to your Github and email the link to: jzhang@eastwest.edu\n",
    "\n",
    "Subject: Homework 3 by YourStudentID and your name"
   ]
  },
  {
   "cell_type": "code",
   "execution_count": 30,
   "metadata": {},
   "outputs": [],
   "source": [
    "%matplotlib inline\n",
    "import pandas as pd"
   ]
  },
  {
   "cell_type": "code",
   "execution_count": 31,
   "metadata": {},
   "outputs": [],
   "source": [
    "# limiting the display rows\n",
    "pd.set_option('display.max_rows', 5)"
   ]
  },
  {
   "cell_type": "code",
   "execution_count": 32,
   "metadata": {},
   "outputs": [],
   "source": [
    "data = pd.read_csv('data//MarchSales.csv')"
   ]
  },
  {
   "cell_type": "code",
   "execution_count": 33,
   "metadata": {},
   "outputs": [
    {
     "name": "stdout",
     "output_type": "stream",
     "text": [
      "(107, 10)\n"
     ]
    },
    {
     "data": {
      "text/html": [
       "<div>\n",
       "<style scoped>\n",
       "    .dataframe tbody tr th:only-of-type {\n",
       "        vertical-align: middle;\n",
       "    }\n",
       "\n",
       "    .dataframe tbody tr th {\n",
       "        vertical-align: top;\n",
       "    }\n",
       "\n",
       "    .dataframe thead th {\n",
       "        text-align: right;\n",
       "    }\n",
       "</style>\n",
       "<table border=\"1\" class=\"dataframe\">\n",
       "  <thead>\n",
       "    <tr style=\"text-align: right;\">\n",
       "      <th></th>\n",
       "      <th>Trans_No</th>\n",
       "      <th>Operator</th>\n",
       "      <th>Sales_First</th>\n",
       "      <th>Sales_Last</th>\n",
       "      <th>Date</th>\n",
       "      <th>Department</th>\n",
       "      <th>Furniture</th>\n",
       "      <th>Pay_Type</th>\n",
       "      <th>Trans_Type</th>\n",
       "      <th>Amount</th>\n",
       "    </tr>\n",
       "  </thead>\n",
       "  <tbody>\n",
       "    <tr>\n",
       "      <th>0</th>\n",
       "      <td>2018-001</td>\n",
       "      <td>KRM</td>\n",
       "      <td>Sebastian</td>\n",
       "      <td>Gruenewald</td>\n",
       "      <td>3/1/2018</td>\n",
       "      <td>Bedroom</td>\n",
       "      <td>Mattress</td>\n",
       "      <td>Finance</td>\n",
       "      <td>Promotion</td>\n",
       "      <td>2788</td>\n",
       "    </tr>\n",
       "    <tr>\n",
       "      <th>1</th>\n",
       "      <td>2018-002</td>\n",
       "      <td>RKM</td>\n",
       "      <td>Sebastian</td>\n",
       "      <td>Gruenewald</td>\n",
       "      <td>3/1/2018</td>\n",
       "      <td>Bedroom</td>\n",
       "      <td>Mattress</td>\n",
       "      <td>Finance</td>\n",
       "      <td>Promotion</td>\n",
       "      <td>3245</td>\n",
       "    </tr>\n",
       "    <tr>\n",
       "      <th>...</th>\n",
       "      <td>...</td>\n",
       "      <td>...</td>\n",
       "      <td>...</td>\n",
       "      <td>...</td>\n",
       "      <td>...</td>\n",
       "      <td>...</td>\n",
       "      <td>...</td>\n",
       "      <td>...</td>\n",
       "      <td>...</td>\n",
       "      <td>...</td>\n",
       "    </tr>\n",
       "    <tr>\n",
       "      <th>105</th>\n",
       "      <td>2018-102</td>\n",
       "      <td>MAP</td>\n",
       "      <td>Chantalle</td>\n",
       "      <td>Desmarais</td>\n",
       "      <td>3/31/2018</td>\n",
       "      <td>Bedroom</td>\n",
       "      <td>Mattress</td>\n",
       "      <td>Paid in Full</td>\n",
       "      <td>Promotion</td>\n",
       "      <td>2000</td>\n",
       "    </tr>\n",
       "    <tr>\n",
       "      <th>106</th>\n",
       "      <td>2018-103</td>\n",
       "      <td>KRM</td>\n",
       "      <td>Sebastian</td>\n",
       "      <td>Gruenewald</td>\n",
       "      <td>3/31/2018</td>\n",
       "      <td>Living Room</td>\n",
       "      <td>End Tables</td>\n",
       "      <td>Finance</td>\n",
       "      <td>Standard</td>\n",
       "      <td>2505</td>\n",
       "    </tr>\n",
       "  </tbody>\n",
       "</table>\n",
       "<p>107 rows × 10 columns</p>\n",
       "</div>"
      ],
      "text/plain": [
       "     Trans_No Operator Sales_First  Sales_Last       Date   Department  \\\n",
       "0    2018-001      KRM   Sebastian  Gruenewald   3/1/2018      Bedroom   \n",
       "1    2018-002      RKM   Sebastian  Gruenewald   3/1/2018      Bedroom   \n",
       "..        ...      ...         ...         ...        ...          ...   \n",
       "105  2018-102      MAP   Chantalle   Desmarais  3/31/2018      Bedroom   \n",
       "106  2018-103      KRM   Sebastian  Gruenewald  3/31/2018  Living Room   \n",
       "\n",
       "      Furniture      Pay_Type Trans_Type  Amount  \n",
       "0      Mattress       Finance  Promotion    2788  \n",
       "1      Mattress       Finance  Promotion    3245  \n",
       "..          ...           ...        ...     ...  \n",
       "105    Mattress  Paid in Full  Promotion    2000  \n",
       "106  End Tables       Finance   Standard    2505  \n",
       "\n",
       "[107 rows x 10 columns]"
      ]
     },
     "execution_count": 33,
     "metadata": {},
     "output_type": "execute_result"
    }
   ],
   "source": [
    "sales = pd.read_csv('data/MarchSales.csv')\n",
    "print(sales.shape)\n",
    "sales"
   ]
  },
  {
   "cell_type": "code",
   "execution_count": 9,
   "metadata": {},
   "outputs": [
    {
     "name": "stdout",
     "output_type": "stream",
     "text": [
      "Alejandro Blancas 20319\n",
      "\n",
      "(107, 10)\n",
      "     Trans_No Operator Sales_First  Sales_Last       Date   Department  \\\n",
      "0    2018-001      KRM   Sebastian  Gruenewald   3/1/2018      Bedroom   \n",
      "1    2018-002      RKM   Sebastian  Gruenewald   3/1/2018      Bedroom   \n",
      "..        ...      ...         ...         ...        ...          ...   \n",
      "105  2018-102      MAP   Chantalle   Desmarais  3/31/2018      Bedroom   \n",
      "106  2018-103      KRM   Sebastian  Gruenewald  3/31/2018  Living Room   \n",
      "\n",
      "      Furniture      Pay_Type Trans_Type  Amount  \n",
      "0      Mattress       Finance  Promotion    2788  \n",
      "1      Mattress       Finance  Promotion    3245  \n",
      "..          ...           ...        ...     ...  \n",
      "105    Mattress  Paid in Full  Promotion    2000  \n",
      "106  End Tables       Finance   Standard    2505  \n",
      "\n",
      "[107 rows x 10 columns]\n"
     ]
    }
   ],
   "source": [
    "print('Alejandro Blancas 20319\\n')\n",
    "\n",
    "# Problem 1. (2 pt)\n",
    "\n",
    "# Show the number of rows and columns in sales dataframe.\n",
    "print(sales.shape)\n",
    "print(sales)"
   ]
  },
  {
   "cell_type": "code",
   "execution_count": 15,
   "metadata": {},
   "outputs": [
    {
     "name": "stdout",
     "output_type": "stream",
     "text": [
      "Alejandro Blancas 20319\n",
      "\n",
      "Index(['Trans_No', 'Operator', 'Sales_First', 'Sales_Last', 'Date',\n",
      "       'Department', 'Furniture', 'Pay_Type', 'Trans_Type', 'Amount'],\n",
      "      dtype='object')\n",
      "----------------------------------------\n",
      "\n"
     ]
    },
    {
     "data": {
      "text/plain": [
       "RangeIndex(start=0, stop=107, step=1)"
      ]
     },
     "execution_count": 15,
     "metadata": {},
     "output_type": "execute_result"
    }
   ],
   "source": [
    "print('Alejandro Blancas 20319\\n')\n",
    "\n",
    "# Problem 2 (2 pt)\n",
    "\n",
    "# show the column names of the datafram \n",
    "names = data.columns\n",
    "print(names)\n",
    "print('----------------------------------------\\n')\n",
    "# show the index of the datafram \n",
    "data.index"
   ]
  },
  {
   "cell_type": "code",
   "execution_count": 16,
   "metadata": {},
   "outputs": [
    {
     "name": "stdout",
     "output_type": "stream",
     "text": [
      "Alejandro Blancas 20319\n",
      "\n",
      "0      2018-001\n",
      "1      2018-002\n",
      "         ...   \n",
      "105    2018-102\n",
      "106    2018-103\n",
      "Name: Trans_No, Length: 107, dtype: object\n"
     ]
    }
   ],
   "source": [
    "print('Alejandro Blancas 20319\\n')\n",
    "\n",
    "# Problem 3 (2 pt)\n",
    "# Only show Trans number\n",
    "name = data['Trans_No']\n",
    "print(name)"
   ]
  },
  {
   "cell_type": "code",
   "execution_count": 12,
   "metadata": {},
   "outputs": [
    {
     "name": "stdout",
     "output_type": "stream",
     "text": [
      "Alejandro Blancas 20319\n",
      "Department\n",
      "---------------------------------------------\n",
      "Bedroom\n",
      "Living Room\n",
      "Appliances\n",
      "Dining Room\n"
     ]
    }
   ],
   "source": [
    "print('Alejandro Blancas 20319')\n",
    "\n",
    "# Problem 4 (4 pt)\n",
    "# Show Department without duplicate\n",
    "department = data.Department.unique()\n",
    "# Display department name as following format\n",
    "print('Department')\n",
    "print('---------------------------------------------')\n",
    "for name in department:\n",
    "    print(name)\n",
    "\n",
    "\n"
   ]
  },
  {
   "cell_type": "code",
   "execution_count": 14,
   "metadata": {},
   "outputs": [
    {
     "name": "stdout",
     "output_type": "stream",
     "text": [
      "Alejandro Blancas 20319\n"
     ]
    },
    {
     "data": {
      "text/html": [
       "<div>\n",
       "<style scoped>\n",
       "    .dataframe tbody tr th:only-of-type {\n",
       "        vertical-align: middle;\n",
       "    }\n",
       "\n",
       "    .dataframe tbody tr th {\n",
       "        vertical-align: top;\n",
       "    }\n",
       "\n",
       "    .dataframe thead th {\n",
       "        text-align: right;\n",
       "    }\n",
       "</style>\n",
       "<table border=\"1\" class=\"dataframe\">\n",
       "  <thead>\n",
       "    <tr style=\"text-align: right;\">\n",
       "      <th></th>\n",
       "      <th>Trans_No</th>\n",
       "      <th>Sales_First</th>\n",
       "      <th>Sales_Last</th>\n",
       "    </tr>\n",
       "  </thead>\n",
       "  <tbody>\n",
       "    <tr>\n",
       "      <th>0</th>\n",
       "      <td>2018-001</td>\n",
       "      <td>Sebastian</td>\n",
       "      <td>Gruenewald</td>\n",
       "    </tr>\n",
       "    <tr>\n",
       "      <th>1</th>\n",
       "      <td>2018-002</td>\n",
       "      <td>Sebastian</td>\n",
       "      <td>Gruenewald</td>\n",
       "    </tr>\n",
       "    <tr>\n",
       "      <th>...</th>\n",
       "      <td>...</td>\n",
       "      <td>...</td>\n",
       "      <td>...</td>\n",
       "    </tr>\n",
       "    <tr>\n",
       "      <th>105</th>\n",
       "      <td>2018-102</td>\n",
       "      <td>Chantalle</td>\n",
       "      <td>Desmarais</td>\n",
       "    </tr>\n",
       "    <tr>\n",
       "      <th>106</th>\n",
       "      <td>2018-103</td>\n",
       "      <td>Sebastian</td>\n",
       "      <td>Gruenewald</td>\n",
       "    </tr>\n",
       "  </tbody>\n",
       "</table>\n",
       "<p>107 rows × 3 columns</p>\n",
       "</div>"
      ],
      "text/plain": [
       "     Trans_No Sales_First  Sales_Last\n",
       "0    2018-001   Sebastian  Gruenewald\n",
       "1    2018-002   Sebastian  Gruenewald\n",
       "..        ...         ...         ...\n",
       "105  2018-102   Chantalle   Desmarais\n",
       "106  2018-103   Sebastian  Gruenewald\n",
       "\n",
       "[107 rows x 3 columns]"
      ]
     },
     "execution_count": 14,
     "metadata": {},
     "output_type": "execute_result"
    }
   ],
   "source": [
    "print('Alejandro Blancas 20319')\n",
    "\n",
    "# Problem 5 (2 pt)\n",
    "# Show the columns: Trans_No, Sales Representatives Name.\n",
    "res = data[['Trans_No', 'Sales_First', 'Sales_Last']]\n",
    "res"
   ]
  },
  {
   "cell_type": "code",
   "execution_count": 17,
   "metadata": {},
   "outputs": [
    {
     "name": "stdout",
     "output_type": "stream",
     "text": [
      "Alejandro Blancas 20319\n",
      "\n"
     ]
    },
    {
     "data": {
      "text/html": [
       "<div>\n",
       "<style scoped>\n",
       "    .dataframe tbody tr th:only-of-type {\n",
       "        vertical-align: middle;\n",
       "    }\n",
       "\n",
       "    .dataframe tbody tr th {\n",
       "        vertical-align: top;\n",
       "    }\n",
       "\n",
       "    .dataframe thead th {\n",
       "        text-align: right;\n",
       "    }\n",
       "</style>\n",
       "<table border=\"1\" class=\"dataframe\">\n",
       "  <thead>\n",
       "    <tr style=\"text-align: right;\">\n",
       "      <th></th>\n",
       "      <th>Trans_No</th>\n",
       "      <th>Sales_First</th>\n",
       "      <th>Sales_Last</th>\n",
       "    </tr>\n",
       "  </thead>\n",
       "  <tbody>\n",
       "    <tr>\n",
       "      <th>0</th>\n",
       "      <td>2018-001</td>\n",
       "      <td>Sebastian</td>\n",
       "      <td>Gruenewald</td>\n",
       "    </tr>\n",
       "    <tr>\n",
       "      <th>2</th>\n",
       "      <td>2018-003</td>\n",
       "      <td>Jade</td>\n",
       "      <td>Gallagher</td>\n",
       "    </tr>\n",
       "    <tr>\n",
       "      <th>4</th>\n",
       "      <td>2018-005</td>\n",
       "      <td>Jade</td>\n",
       "      <td>Gallagher</td>\n",
       "    </tr>\n",
       "  </tbody>\n",
       "</table>\n",
       "</div>"
      ],
      "text/plain": [
       "   Trans_No Sales_First  Sales_Last\n",
       "0  2018-001   Sebastian  Gruenewald\n",
       "2  2018-003        Jade   Gallagher\n",
       "4  2018-005        Jade   Gallagher"
      ]
     },
     "execution_count": 17,
     "metadata": {},
     "output_type": "execute_result"
    }
   ],
   "source": [
    "print('Alejandro Blancas 20319\\n')\n",
    "\n",
    "# Problem 6 (2 pt)\n",
    "# Show the columns: Trans_No, Sales Representatives Name. \n",
    "# (only show the first, third and fifth row)\n",
    "# Hint: use .loc\n",
    "res = data[['Trans_No','Sales_First','Sales_Last']].loc[[0,2,4]]\n",
    "res\n"
   ]
  },
  {
   "cell_type": "code",
   "execution_count": 22,
   "metadata": {},
   "outputs": [
    {
     "name": "stdout",
     "output_type": "stream",
     "text": [
      "Alejandro Blancas 20319\n",
      "\n"
     ]
    },
    {
     "data": {
      "text/html": [
       "<div>\n",
       "<style scoped>\n",
       "    .dataframe tbody tr th:only-of-type {\n",
       "        vertical-align: middle;\n",
       "    }\n",
       "\n",
       "    .dataframe tbody tr th {\n",
       "        vertical-align: top;\n",
       "    }\n",
       "\n",
       "    .dataframe thead th {\n",
       "        text-align: right;\n",
       "    }\n",
       "</style>\n",
       "<table border=\"1\" class=\"dataframe\">\n",
       "  <thead>\n",
       "    <tr style=\"text-align: right;\">\n",
       "      <th></th>\n",
       "      <th>Trans_Type</th>\n",
       "      <th>Department</th>\n",
       "      <th>Amount</th>\n",
       "    </tr>\n",
       "  </thead>\n",
       "  <tbody>\n",
       "    <tr>\n",
       "      <th>2</th>\n",
       "      <td>Promotion</td>\n",
       "      <td>Living Room</td>\n",
       "      <td>10000</td>\n",
       "    </tr>\n",
       "    <tr>\n",
       "      <th>3</th>\n",
       "      <td>Promotion</td>\n",
       "      <td>Living Room</td>\n",
       "      <td>1000</td>\n",
       "    </tr>\n",
       "    <tr>\n",
       "      <th>...</th>\n",
       "      <td>...</td>\n",
       "      <td>...</td>\n",
       "      <td>...</td>\n",
       "    </tr>\n",
       "    <tr>\n",
       "      <th>98</th>\n",
       "      <td>Standard</td>\n",
       "      <td>Living Room</td>\n",
       "      <td>14275</td>\n",
       "    </tr>\n",
       "    <tr>\n",
       "      <th>106</th>\n",
       "      <td>Standard</td>\n",
       "      <td>Living Room</td>\n",
       "      <td>2505</td>\n",
       "    </tr>\n",
       "  </tbody>\n",
       "</table>\n",
       "<p>26 rows × 3 columns</p>\n",
       "</div>"
      ],
      "text/plain": [
       "    Trans_Type   Department  Amount\n",
       "2    Promotion  Living Room   10000\n",
       "3    Promotion  Living Room    1000\n",
       "..         ...          ...     ...\n",
       "98    Standard  Living Room   14275\n",
       "106   Standard  Living Room    2505\n",
       "\n",
       "[26 rows x 3 columns]"
      ]
     },
     "execution_count": 22,
     "metadata": {},
     "output_type": "execute_result"
    }
   ],
   "source": [
    "print('Alejandro Blancas 20319\\n')\n",
    "\n",
    "# Problem 7 (2 pt)\n",
    "# Show all transactions in the department of Living Room\n",
    "data[data['Department']=='Living Room'][['Trans_Type','Department','Amount']]"
   ]
  },
  {
   "cell_type": "code",
   "execution_count": 47,
   "metadata": {
    "scrolled": true
   },
   "outputs": [
    {
     "name": "stdout",
     "output_type": "stream",
     "text": [
      "Alejandro Blancas 20319\n",
      "\n"
     ]
    },
    {
     "data": {
      "text/html": [
       "<div>\n",
       "<style scoped>\n",
       "    .dataframe tbody tr th:only-of-type {\n",
       "        vertical-align: middle;\n",
       "    }\n",
       "\n",
       "    .dataframe tbody tr th {\n",
       "        vertical-align: top;\n",
       "    }\n",
       "\n",
       "    .dataframe thead th {\n",
       "        text-align: right;\n",
       "    }\n",
       "</style>\n",
       "<table border=\"1\" class=\"dataframe\">\n",
       "  <thead>\n",
       "    <tr style=\"text-align: right;\">\n",
       "      <th></th>\n",
       "      <th>Trans_No</th>\n",
       "      <th>Operator</th>\n",
       "      <th>Sales_First</th>\n",
       "      <th>Sales_Last</th>\n",
       "      <th>Date</th>\n",
       "      <th>Department</th>\n",
       "      <th>Furniture</th>\n",
       "      <th>Pay_Type</th>\n",
       "      <th>Trans_Type</th>\n",
       "      <th>Amount</th>\n",
       "    </tr>\n",
       "  </thead>\n",
       "  <tbody>\n",
       "    <tr>\n",
       "      <th>2</th>\n",
       "      <td>2018-003</td>\n",
       "      <td>MAP</td>\n",
       "      <td>Jade</td>\n",
       "      <td>Gallagher</td>\n",
       "      <td>3/1/2018</td>\n",
       "      <td>Living Room</td>\n",
       "      <td>Sofa, Loveseat, Chair Package</td>\n",
       "      <td>Finance</td>\n",
       "      <td>Promotion</td>\n",
       "      <td>10000</td>\n",
       "    </tr>\n",
       "    <tr>\n",
       "      <th>3</th>\n",
       "      <td>2018-004</td>\n",
       "      <td>MAP</td>\n",
       "      <td>Jade</td>\n",
       "      <td>Gallagher</td>\n",
       "      <td>3/1/2018</td>\n",
       "      <td>Living Room</td>\n",
       "      <td>End Tables</td>\n",
       "      <td>Finance</td>\n",
       "      <td>Promotion</td>\n",
       "      <td>1000</td>\n",
       "    </tr>\n",
       "    <tr>\n",
       "      <th>...</th>\n",
       "      <td>...</td>\n",
       "      <td>...</td>\n",
       "      <td>...</td>\n",
       "      <td>...</td>\n",
       "      <td>...</td>\n",
       "      <td>...</td>\n",
       "      <td>...</td>\n",
       "      <td>...</td>\n",
       "      <td>...</td>\n",
       "      <td>...</td>\n",
       "    </tr>\n",
       "    <tr>\n",
       "      <th>73</th>\n",
       "      <td>2018-070</td>\n",
       "      <td>KRM</td>\n",
       "      <td>Ambrose</td>\n",
       "      <td>Sardelis</td>\n",
       "      <td>3/23/2018</td>\n",
       "      <td>Living Room</td>\n",
       "      <td>Sofa, Loveseat, Chair Package</td>\n",
       "      <td>Finance</td>\n",
       "      <td>Promotion</td>\n",
       "      <td>12500</td>\n",
       "    </tr>\n",
       "    <tr>\n",
       "      <th>77</th>\n",
       "      <td>2018-074</td>\n",
       "      <td>MAP</td>\n",
       "      <td>Jade</td>\n",
       "      <td>Gallagher</td>\n",
       "      <td>3/24/2018</td>\n",
       "      <td>Living Room</td>\n",
       "      <td>Loveseat</td>\n",
       "      <td>Paid in Full</td>\n",
       "      <td>Promotion</td>\n",
       "      <td>1255</td>\n",
       "    </tr>\n",
       "  </tbody>\n",
       "</table>\n",
       "<p>11 rows × 10 columns</p>\n",
       "</div>"
      ],
      "text/plain": [
       "    Trans_No Operator Sales_First Sales_Last       Date   Department  \\\n",
       "2   2018-003      MAP        Jade  Gallagher   3/1/2018  Living Room   \n",
       "3   2018-004      MAP        Jade  Gallagher   3/1/2018  Living Room   \n",
       "..       ...      ...         ...        ...        ...          ...   \n",
       "73  2018-070      KRM     Ambrose   Sardelis  3/23/2018  Living Room   \n",
       "77  2018-074      MAP        Jade  Gallagher  3/24/2018  Living Room   \n",
       "\n",
       "                        Furniture      Pay_Type Trans_Type  Amount  \n",
       "2   Sofa, Loveseat, Chair Package       Finance  Promotion   10000  \n",
       "3                      End Tables       Finance  Promotion    1000  \n",
       "..                            ...           ...        ...     ...  \n",
       "73  Sofa, Loveseat, Chair Package       Finance  Promotion   12500  \n",
       "77                       Loveseat  Paid in Full  Promotion    1255  \n",
       "\n",
       "[11 rows x 10 columns]"
      ]
     },
     "execution_count": 47,
     "metadata": {},
     "output_type": "execute_result"
    }
   ],
   "source": [
    "print('Alejandro Blancas 20319\\n')\n",
    "\n",
    "# Problem 8 (2 pts)\n",
    "# Show all transaction in Living Room Department and Trans_Type is Promotion\n",
    "data[(data['Trans_Type']=='Promotion') & (data['Department']=='Living Room')]\n"
   ]
  },
  {
   "cell_type": "code",
   "execution_count": 50,
   "metadata": {},
   "outputs": [
    {
     "name": "stdout",
     "output_type": "stream",
     "text": [
      "Alejandro Blancas 20319\n"
     ]
    },
    {
     "data": {
      "text/html": [
       "<div>\n",
       "<style scoped>\n",
       "    .dataframe tbody tr th:only-of-type {\n",
       "        vertical-align: middle;\n",
       "    }\n",
       "\n",
       "    .dataframe tbody tr th {\n",
       "        vertical-align: top;\n",
       "    }\n",
       "\n",
       "    .dataframe thead th {\n",
       "        text-align: right;\n",
       "    }\n",
       "</style>\n",
       "<table border=\"1\" class=\"dataframe\">\n",
       "  <thead>\n",
       "    <tr style=\"text-align: right;\">\n",
       "      <th></th>\n",
       "      <th>Trans_No</th>\n",
       "      <th>Operator</th>\n",
       "      <th>Sales_First</th>\n",
       "      <th>Sales_Last</th>\n",
       "      <th>Date</th>\n",
       "      <th>Department</th>\n",
       "      <th>Furniture</th>\n",
       "      <th>Pay_Type</th>\n",
       "      <th>Trans_Type</th>\n",
       "      <th>Amount</th>\n",
       "    </tr>\n",
       "  </thead>\n",
       "  <tbody>\n",
       "    <tr>\n",
       "      <th>5</th>\n",
       "      <td>2018-006</td>\n",
       "      <td>COK</td>\n",
       "      <td>Ambrose</td>\n",
       "      <td>Sardelis</td>\n",
       "      <td>3/1/2018</td>\n",
       "      <td>Living Room</td>\n",
       "      <td>Sofa, Loveseat, Chair Package</td>\n",
       "      <td>Finance</td>\n",
       "      <td>Promotion</td>\n",
       "      <td>12000</td>\n",
       "    </tr>\n",
       "    <tr>\n",
       "      <th>6</th>\n",
       "      <td>2018-006</td>\n",
       "      <td>COK</td>\n",
       "      <td>Ambrose</td>\n",
       "      <td>Sardelis</td>\n",
       "      <td>3/1/2018</td>\n",
       "      <td>Living Room</td>\n",
       "      <td>Sofa, Loveseat, Chair Package</td>\n",
       "      <td>Finance</td>\n",
       "      <td>Promotion</td>\n",
       "      <td>12000</td>\n",
       "    </tr>\n",
       "    <tr>\n",
       "      <th>...</th>\n",
       "      <td>...</td>\n",
       "      <td>...</td>\n",
       "      <td>...</td>\n",
       "      <td>...</td>\n",
       "      <td>...</td>\n",
       "      <td>...</td>\n",
       "      <td>...</td>\n",
       "      <td>...</td>\n",
       "      <td>...</td>\n",
       "      <td>...</td>\n",
       "    </tr>\n",
       "    <tr>\n",
       "      <th>100</th>\n",
       "      <td>2018-097</td>\n",
       "      <td>COK</td>\n",
       "      <td>Sebastian</td>\n",
       "      <td>Gruenewald</td>\n",
       "      <td>3/29/2018</td>\n",
       "      <td>Bedroom</td>\n",
       "      <td>Bedroom Furniture Set</td>\n",
       "      <td>Finance</td>\n",
       "      <td>Standard</td>\n",
       "      <td>14321</td>\n",
       "    </tr>\n",
       "    <tr>\n",
       "      <th>103</th>\n",
       "      <td>2018-100</td>\n",
       "      <td>COK</td>\n",
       "      <td>Chantalle</td>\n",
       "      <td>Desmarais</td>\n",
       "      <td>3/30/2018</td>\n",
       "      <td>Bedroom</td>\n",
       "      <td>Bedroom Furniture Set</td>\n",
       "      <td>Finance</td>\n",
       "      <td>Promotion</td>\n",
       "      <td>11234</td>\n",
       "    </tr>\n",
       "  </tbody>\n",
       "</table>\n",
       "<p>10 rows × 10 columns</p>\n",
       "</div>"
      ],
      "text/plain": [
       "     Trans_No Operator Sales_First  Sales_Last       Date   Department  \\\n",
       "5    2018-006      COK     Ambrose    Sardelis   3/1/2018  Living Room   \n",
       "6    2018-006      COK     Ambrose    Sardelis   3/1/2018  Living Room   \n",
       "..        ...      ...         ...         ...        ...          ...   \n",
       "100  2018-097      COK   Sebastian  Gruenewald  3/29/2018      Bedroom   \n",
       "103  2018-100      COK   Chantalle   Desmarais  3/30/2018      Bedroom   \n",
       "\n",
       "                         Furniture Pay_Type Trans_Type  Amount  \n",
       "5    Sofa, Loveseat, Chair Package  Finance  Promotion   12000  \n",
       "6    Sofa, Loveseat, Chair Package  Finance  Promotion   12000  \n",
       "..                             ...      ...        ...     ...  \n",
       "100          Bedroom Furniture Set  Finance   Standard   14321  \n",
       "103          Bedroom Furniture Set  Finance  Promotion   11234  \n",
       "\n",
       "[10 rows x 10 columns]"
      ]
     },
     "execution_count": 50,
     "metadata": {},
     "output_type": "execute_result"
    }
   ],
   "source": [
    "print('Alejandro Blancas 20319')\n",
    "\n",
    "# Problem 9 (2 pts)\n",
    "# Show all transaction which amount is over 10000 or Pay_Type is Finance\n",
    "\n",
    "res = data[(data['Pay_Type']=='Finance') & (data.Amount > 10000)]\n",
    "res\n",
    "\n"
   ]
  },
  {
   "cell_type": "code",
   "execution_count": 53,
   "metadata": {},
   "outputs": [
    {
     "name": "stdout",
     "output_type": "stream",
     "text": [
      "Alejandro Blancas 20319\n"
     ]
    },
    {
     "data": {
      "text/html": [
       "<div>\n",
       "<style scoped>\n",
       "    .dataframe tbody tr th:only-of-type {\n",
       "        vertical-align: middle;\n",
       "    }\n",
       "\n",
       "    .dataframe tbody tr th {\n",
       "        vertical-align: top;\n",
       "    }\n",
       "\n",
       "    .dataframe thead th {\n",
       "        text-align: right;\n",
       "    }\n",
       "</style>\n",
       "<table border=\"1\" class=\"dataframe\">\n",
       "  <thead>\n",
       "    <tr style=\"text-align: right;\">\n",
       "      <th></th>\n",
       "      <th>Trans_No</th>\n",
       "      <th>Furniture</th>\n",
       "      <th>Pay_Type</th>\n",
       "      <th>Amount</th>\n",
       "    </tr>\n",
       "  </thead>\n",
       "  <tbody>\n",
       "    <tr>\n",
       "      <th>5</th>\n",
       "      <td>2018-006</td>\n",
       "      <td>Sofa, Loveseat, Chair Package</td>\n",
       "      <td>Finance</td>\n",
       "      <td>12000</td>\n",
       "    </tr>\n",
       "    <tr>\n",
       "      <th>6</th>\n",
       "      <td>2018-006</td>\n",
       "      <td>Sofa, Loveseat, Chair Package</td>\n",
       "      <td>Finance</td>\n",
       "      <td>12000</td>\n",
       "    </tr>\n",
       "    <tr>\n",
       "      <th>...</th>\n",
       "      <td>...</td>\n",
       "      <td>...</td>\n",
       "      <td>...</td>\n",
       "      <td>...</td>\n",
       "    </tr>\n",
       "    <tr>\n",
       "      <th>100</th>\n",
       "      <td>2018-097</td>\n",
       "      <td>Bedroom Furniture Set</td>\n",
       "      <td>Finance</td>\n",
       "      <td>14321</td>\n",
       "    </tr>\n",
       "    <tr>\n",
       "      <th>103</th>\n",
       "      <td>2018-100</td>\n",
       "      <td>Bedroom Furniture Set</td>\n",
       "      <td>Finance</td>\n",
       "      <td>11234</td>\n",
       "    </tr>\n",
       "  </tbody>\n",
       "</table>\n",
       "<p>10 rows × 4 columns</p>\n",
       "</div>"
      ],
      "text/plain": [
       "     Trans_No                      Furniture Pay_Type  Amount\n",
       "5    2018-006  Sofa, Loveseat, Chair Package  Finance   12000\n",
       "6    2018-006  Sofa, Loveseat, Chair Package  Finance   12000\n",
       "..        ...                            ...      ...     ...\n",
       "100  2018-097          Bedroom Furniture Set  Finance   14321\n",
       "103  2018-100          Bedroom Furniture Set  Finance   11234\n",
       "\n",
       "[10 rows x 4 columns]"
      ]
     },
     "execution_count": 53,
     "metadata": {},
     "output_type": "execute_result"
    }
   ],
   "source": [
    "print('Alejandro Blancas 20319')\n",
    "\n",
    "# Problem 10 (2 pts)\n",
    "# Show all transaction which amount is over 10000\n",
    "# Only include columns: Trans_No, Furniture,Pay_Type, Amount\n",
    "\n",
    "res = data[(data['Pay_Type']=='Finance') & (data.Amount > 10000)][['Trans_No','Furniture','Pay_Type','Amount']]\n",
    "res"
   ]
  },
  {
   "cell_type": "code",
   "execution_count": 54,
   "metadata": {},
   "outputs": [
    {
     "name": "stdout",
     "output_type": "stream",
     "text": [
      "Alejandro Blancas 20319\n"
     ]
    },
    {
     "data": {
      "text/html": [
       "<div>\n",
       "<style scoped>\n",
       "    .dataframe tbody tr th:only-of-type {\n",
       "        vertical-align: middle;\n",
       "    }\n",
       "\n",
       "    .dataframe tbody tr th {\n",
       "        vertical-align: top;\n",
       "    }\n",
       "\n",
       "    .dataframe thead th {\n",
       "        text-align: right;\n",
       "    }\n",
       "</style>\n",
       "<table border=\"1\" class=\"dataframe\">\n",
       "  <thead>\n",
       "    <tr style=\"text-align: right;\">\n",
       "      <th></th>\n",
       "      <th>Trans_No</th>\n",
       "      <th>Operator</th>\n",
       "      <th>Sales_First</th>\n",
       "      <th>Sales_Last</th>\n",
       "      <th>Date</th>\n",
       "      <th>Department</th>\n",
       "      <th>Furniture</th>\n",
       "      <th>Pay_Type</th>\n",
       "      <th>Trans_Type</th>\n",
       "      <th>Amount</th>\n",
       "    </tr>\n",
       "  </thead>\n",
       "  <tbody>\n",
       "    <tr>\n",
       "      <th>5</th>\n",
       "      <td>2018-006</td>\n",
       "      <td>COK</td>\n",
       "      <td>Ambrose</td>\n",
       "      <td>Sardelis</td>\n",
       "      <td>3/1/2018</td>\n",
       "      <td>Living Room</td>\n",
       "      <td>Sofa, Loveseat, Chair Package</td>\n",
       "      <td>Finance</td>\n",
       "      <td>Promotion</td>\n",
       "      <td>12000</td>\n",
       "    </tr>\n",
       "    <tr>\n",
       "      <th>6</th>\n",
       "      <td>2018-006</td>\n",
       "      <td>COK</td>\n",
       "      <td>Ambrose</td>\n",
       "      <td>Sardelis</td>\n",
       "      <td>3/1/2018</td>\n",
       "      <td>Living Room</td>\n",
       "      <td>Sofa, Loveseat, Chair Package</td>\n",
       "      <td>Finance</td>\n",
       "      <td>Promotion</td>\n",
       "      <td>12000</td>\n",
       "    </tr>\n",
       "    <tr>\n",
       "      <th>...</th>\n",
       "      <td>...</td>\n",
       "      <td>...</td>\n",
       "      <td>...</td>\n",
       "      <td>...</td>\n",
       "      <td>...</td>\n",
       "      <td>...</td>\n",
       "      <td>...</td>\n",
       "      <td>...</td>\n",
       "      <td>...</td>\n",
       "      <td>...</td>\n",
       "    </tr>\n",
       "    <tr>\n",
       "      <th>96</th>\n",
       "      <td>2018-093</td>\n",
       "      <td>MAP</td>\n",
       "      <td>Ambrose</td>\n",
       "      <td>Sardelis</td>\n",
       "      <td>3/28/2018</td>\n",
       "      <td>Bedroom</td>\n",
       "      <td>Mattress</td>\n",
       "      <td>Paid in Full</td>\n",
       "      <td>Standard</td>\n",
       "      <td>2000</td>\n",
       "    </tr>\n",
       "    <tr>\n",
       "      <th>97</th>\n",
       "      <td>2018-094</td>\n",
       "      <td>MAP</td>\n",
       "      <td>Ambrose</td>\n",
       "      <td>Sardelis</td>\n",
       "      <td>3/28/2018</td>\n",
       "      <td>Bedroom</td>\n",
       "      <td>Mattress</td>\n",
       "      <td>Paid in Full</td>\n",
       "      <td>Promotion</td>\n",
       "      <td>3245</td>\n",
       "    </tr>\n",
       "  </tbody>\n",
       "</table>\n",
       "<p>24 rows × 10 columns</p>\n",
       "</div>"
      ],
      "text/plain": [
       "    Trans_No Operator Sales_First Sales_Last       Date   Department  \\\n",
       "5   2018-006      COK     Ambrose   Sardelis   3/1/2018  Living Room   \n",
       "6   2018-006      COK     Ambrose   Sardelis   3/1/2018  Living Room   \n",
       "..       ...      ...         ...        ...        ...          ...   \n",
       "96  2018-093      MAP     Ambrose   Sardelis  3/28/2018      Bedroom   \n",
       "97  2018-094      MAP     Ambrose   Sardelis  3/28/2018      Bedroom   \n",
       "\n",
       "                        Furniture      Pay_Type Trans_Type  Amount  \n",
       "5   Sofa, Loveseat, Chair Package       Finance  Promotion   12000  \n",
       "6   Sofa, Loveseat, Chair Package       Finance  Promotion   12000  \n",
       "..                            ...           ...        ...     ...  \n",
       "96                       Mattress  Paid in Full   Standard    2000  \n",
       "97                       Mattress  Paid in Full  Promotion    3245  \n",
       "\n",
       "[24 rows x 10 columns]"
      ]
     },
     "execution_count": 54,
     "metadata": {},
     "output_type": "execute_result"
    }
   ],
   "source": [
    "print('Alejandro Blancas 20319')\n",
    "\n",
    "# Problem 11 ( 2 pt)\n",
    "# Show the all transactions by Ambrose Sardelis\n",
    "data.Sales_First=='Ambrose'\n",
    "\n",
    "data[data.Sales_First=='Ambrose']"
   ]
  },
  {
   "cell_type": "code",
   "execution_count": 60,
   "metadata": {},
   "outputs": [
    {
     "name": "stdout",
     "output_type": "stream",
     "text": [
      "Alejandro Blancas 20319\n",
      "Number of tranactions by Ambrose Sarelis:  24\n"
     ]
    }
   ],
   "source": [
    "print('Alejandro Blancas 20319')\n",
    "\n",
    "# Problem 12 ( 2 pt)\n",
    " \n",
    "# Show the number of transactions by Ambrose Sardelis\n",
    "\n",
    "transactions = data[data.Sales_First=='Ambrose'].Sales_First.count()\n",
    "print('Number of tranactions by Ambrose Sarelis: ',transactions)"
   ]
  },
  {
   "cell_type": "code",
   "execution_count": 63,
   "metadata": {},
   "outputs": [
    {
     "name": "stdout",
     "output_type": "stream",
     "text": [
      "Alejandro Blancas 20319\n",
      "Total sales of transaction by Ambrose Sardelis: $ 131899\n"
     ]
    }
   ],
   "source": [
    "print('Alejandro Blancas 20319')\n",
    "\n",
    "# Problem 13 ( 2 pt)\n",
    " \n",
    "# Show the total sales by Ambrose Sardelis\n",
    "\n",
    "total_sales = data[data.Sales_First=='Ambrose'].Amount.sum()\n",
    "print('Total sales of transaction by Ambrose Sardelis: $', total_sales)\n"
   ]
  },
  {
   "cell_type": "code",
   "execution_count": 82,
   "metadata": {},
   "outputs": [
    {
     "name": "stdout",
     "output_type": "stream",
     "text": [
      "Alejandro Blancas 20319\n",
      "Total Sales: $ 493887\n"
     ]
    }
   ],
   "source": [
    "print('Alejandro Blancas 20319')\n",
    "\n",
    "# Problem 14 (2 pt)\n",
    "# Show the total sales amount in March.\n",
    "#data.describe()\n",
    "total_sales = data['Amount'].sum()\n",
    "print('Total Sales: $',total_sales)"
   ]
  },
  {
   "cell_type": "code",
   "execution_count": 98,
   "metadata": {},
   "outputs": [
    {
     "name": "stdout",
     "output_type": "stream",
     "text": [
      "Alejandro Blancas 20319\n",
      "\n",
      "Total transaction number:  107\n",
      "Number of sales transactions in Promotion:  52\n",
      "Percentage of sales transactions:  48.60%\n"
     ]
    }
   ],
   "source": [
    "print('Alejandro Blancas 20319\\n')\n",
    "\n",
    "# Problem 15 & 16 ( 4 pts)\n",
    "# What the percentage of sales transactions in Promotion type among all sales transaction.\n",
    "\n",
    "total_trans = data['Trans_No'].count()\n",
    "num_sales = data[data.Trans_Type=='Promotion'].Trans_Type.count()\n",
    "a_num = num_sales/total_trans\n",
    "percentage = \"{:.2%}\".format(a_num)\n",
    "\n",
    "print('Total transaction number: ', total_trans)\n",
    "print('Number of sales transactions in Promotion: ', num_sales)\n",
    "print('Percentage of sales transactions: ',percentage)"
   ]
  },
  {
   "cell_type": "code",
   "execution_count": 103,
   "metadata": {},
   "outputs": [
    {
     "name": "stdout",
     "output_type": "stream",
     "text": [
      "Alejandro Blancas 20319\n",
      "\n",
      "March total sales: $ 493887\n",
      "Living room department total sales: $ 155323\n",
      "Percentage of total sales:  31.45%\n"
     ]
    }
   ],
   "source": [
    "print('Alejandro Blancas 20319\\n')\n",
    "\n",
    "# Problem 16 & 17 ( 4 pts)\n",
    "# What the percentage of total sales from living room department among total sales.\n",
    "\n",
    "total_sales = data['Amount'].sum()\n",
    "num_sales = data[data.Department=='Living Room'].Amount.sum()\n",
    "a_num = num_sales/total_sales\n",
    "percentage = \"{:.2%}\".format(a_num)\n",
    "\n",
    "print('March total sales: $',total_sales)\n",
    "print('Living room department total sales: $',num_sales)\n",
    "print('Percentage of total sales: ',percentage)"
   ]
  },
  {
   "cell_type": "code",
   "execution_count": 112,
   "metadata": {},
   "outputs": [
    {
     "name": "stdout",
     "output_type": "stream",
     "text": [
      "Alejandro Blancas 20319\n",
      "\n",
      "Total Sales by Bedroom and Living Room departments: $ 282018\n"
     ]
    }
   ],
   "source": [
    "print('Alejandro Blancas 20319\\n')\n",
    "\n",
    "# Problem 18 ( 2 pt)\n",
    "# Show sales Amount from Bedroom and living room department. ( hint: Use OR Logic)\n",
    "\n",
    "total_sales = data[(data['Department'] =='Bedroom') | (data['Department'] =='Living Room') ].Amount.sum()\n",
    "print('Total Sales by Bedroom and Living Room departments: $',total_sales)\n",
    "\n"
   ]
  },
  {
   "cell_type": "code",
   "execution_count": 114,
   "metadata": {},
   "outputs": [
    {
     "name": "stdout",
     "output_type": "stream",
     "text": [
      "Alejandro Blancas 20319\n",
      "\n",
      "50\n"
     ]
    }
   ],
   "source": [
    "print('Alejandro Blancas 20319\\n')\n",
    "\n",
    "# Problem 19 ( 2 pt)\n",
    "# Show the number of sales transactions from Bedroom department and Living Room department.\n",
    "#  ( hint: Use OR Logic)\n",
    "\n",
    "total_sales = data[(data['Department'] =='Bedroom') | (data['Department'] =='Living Room') ].Amount.count()\n",
    "print(total_sales)\n",
    "\n"
   ]
  }
 ],
 "metadata": {
  "kernelspec": {
   "display_name": "Python 3",
   "language": "python",
   "name": "python3"
  },
  "language_info": {
   "codemirror_mode": {
    "name": "ipython",
    "version": 3
   },
   "file_extension": ".py",
   "mimetype": "text/x-python",
   "name": "python",
   "nbconvert_exporter": "python",
   "pygments_lexer": "ipython3",
   "version": "3.8.3"
  }
 },
 "nbformat": 4,
 "nbformat_minor": 1
}
