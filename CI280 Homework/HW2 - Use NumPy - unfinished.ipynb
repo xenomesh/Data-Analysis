{
 "cells": [
  {
   "cell_type": "code",
   "execution_count": 5,
   "metadata": {},
   "outputs": [
    {
     "name": "stdout",
     "output_type": "stream",
     "text": [
      "[88 79 72 75 93 68 46 97 62 97 93 66 51 58 68 61 72 83 46 76]\n",
      "(20,)\n",
      "[93 97 97 93]\n"
     ]
    }
   ],
   "source": [
    "# HW2\n",
    "\n",
    "# Ch04 Numpy\n",
    "\n",
    "# Problem 1:\n",
    "\n",
    "# A list numbers of rang 0 to 100 to represent 20 student final scores\n",
    "# 1) Use numpy to show the average score, highest score and lowest score\n",
    "# 2) Use numpy's boolean index to count how many A (100 - 90), B(89-80), C(79-70), D(69-60), F(<60)\n",
    "#   (Hint: Bs = data[(data>=80) & (data <90) ])\n",
    "\n",
    "import numpy as np\n",
    "\n",
    "# Method 1\n",
    "# 20 students final scores\n"
   ]
  },
  {
   "cell_type": "code",
   "execution_count": 3,
   "metadata": {},
   "outputs": [
    {
     "data": {
      "text/plain": [
       "array([94, 73, 78, 37,  8, 93, 81, 70, 69, 47, 36, 26, 12, 68, 24, 44, 92,\n",
       "       45, 92, 75, 46, 63, 54, 14, 33, 95, 96, 99, 58, 22])"
      ]
     },
     "execution_count": 3,
     "metadata": {},
     "output_type": "execute_result"
    }
   ],
   "source": [
    "import numpy as np\n",
    "\n",
    "# Method 1\n",
    "# 20 students final scores\n",
    "#data = np.random.randn(100)  \n",
    "#print(data)\n",
    "\n",
    "data = np.random.randint(0, 100, 30)  # start, end, number\n",
    "data\n",
    "\n",
    "\n",
    "\n",
    "\n"
   ]
  },
  {
   "cell_type": "code",
   "execution_count": 6,
   "metadata": {
    "scrolled": true
   },
   "outputs": [
    {
     "data": {
      "text/plain": [
       "array([88, 79, 72, 75, 93, 68, 46, 77, 62, 97, 93, 66, 81, 58, 68, 61, 72,\n",
       "       83, 46, 76])"
      ]
     },
     "execution_count": 6,
     "metadata": {},
     "output_type": "execute_result"
    }
   ],
   "source": [
    "# Method 2\n",
    "# 20 students final scores\n",
    "data = np.random.randint(0, 100, 30)  # start, end, number\n",
    "\n",
    "scores = [88 ,79, 72, 75, 93, 68, 46, 77, 62, 97, 93, 66, 81, 58,  68 ,  61, \n",
    "        72 , 83, 46 ,76]\n",
    "\n",
    "data = np.array(scores)\n",
    "\n",
    "data"
   ]
  },
  {
   "cell_type": "code",
   "execution_count": 7,
   "metadata": {},
   "outputs": [
    {
     "name": "stdout",
     "output_type": "stream",
     "text": [
      "['A', 'B', 'C', 'D', 'F']\n",
      "[0. 0. 0. 0. 0.]\n",
      "[0 0 0 0 0]\n"
     ]
    }
   ],
   "source": [
    "labels = ['A', 'B','C','D','F']\n",
    "print (labels)\n",
    "count_grade = np.zeros(5)\n",
    "print (count_grade)\n",
    "count_grade = count_grade.astype(np.int32)\n",
    "\n",
    "print (count_grade)"
   ]
  },
  {
   "cell_type": "code",
   "execution_count": 8,
   "metadata": {},
   "outputs": [
    {
     "name": "stdout",
     "output_type": "stream",
     "text": [
      "[3 3 6 5 3]\n",
      "A 3\n",
      "B 3\n",
      "C 6\n",
      "D 5\n",
      "F 3\n"
     ]
    }
   ],
   "source": [
    "# from A to D grade\n",
    "cutoff = 100\n",
    "for i in range(4):\n",
    "    condition = (data>= (cutoff-10)) & ( data <cutoff ) \n",
    "    count_grade[i]= len(data[condition])\n",
    "    cutoff -= 10\n",
    "\n",
    "# F grade\n",
    "count_grade[4] = len(data[data<60])\n",
    "\n",
    "print (count_grade)\n",
    "\n",
    "for i in range(5):\n",
    "    print(labels[i], count_grade[i])"
   ]
  },
  {
   "cell_type": "code",
   "execution_count": 12,
   "metadata": {},
   "outputs": [
    {
     "data": {
      "image/png": "[encoded data removed]",
      "text/plain": [
       "<Figure size 432x288 with 1 Axes>"
      ]
     },
     "metadata": {
      "needs_background": "light"
     },
     "output_type": "display_data"
    }
   ],
   "source": [
    "# page 392\n",
    "import matplotlib.pyplot as plt\n",
    "\n",
    "def drawBar(count, labels):\n",
    "    left_edges = [0, 10, 20, 30, 40 ]\n",
    "    \n",
    "    # Create a list\n",
    "    bar_width = 5\n",
    "    \n",
    "    plt.bar(left_edges , count, bar_width, color='Green' )   # 'Red'\n",
    "    \n",
    "    plt.xticks([5, 15, 25, 35, 45],labels)\n",
    "    plt.xlabel('Grade')\n",
    "    plt.title('Student Final Grade')\n",
    "    \n",
    "    plt.show()\n",
    "\n",
    "drawBar(count_grade, labels)"
   ]
  },
  {
   "cell_type": "code",
   "execution_count": 13,
   "metadata": {},
   "outputs": [
    {
     "data": {
      "image/png": "[encoded data removed]",
      "text/plain": [
       "<Figure size 432x288 with 1 Axes>"
      ]
     },
     "metadata": {
      "needs_background": "light"
     },
     "output_type": "display_data"
    }
   ],
   "source": [
    "# page 392\n",
    "import matplotlib.pyplot as plt\n",
    "\n",
    "def main():\n",
    "    left_edges = [0, 10, 20, 30, 40 ]\n",
    "    \n",
    "    # Create a list\n",
    "    heights = [100, 200, 300, 400, 500]\n",
    "    bar_width = 5\n",
    "    \n",
    "    plt.bar(left_edges , heights, bar_width, color='Green' )   # 'Red'\n",
    "    \n",
    "    plt.xticks([5, 15, 25, 35, 45], ['2016', '2017','2018','2019','2020'])\n",
    "    plt.yticks([100, 200, 300, 400, 500], ['$0m', '$1m','$2m','$3m','$4m','$5m'])\n",
    "    \n",
    "    plt.show()\n",
    "\n",
    "main()"
   ]
  },
  {
   "cell_type": "code",
   "execution_count": null,
   "metadata": {},
   "outputs": [],
   "source": [
    "#help(np.random.randn)\n",
    "#numpy.random.random(size=None) , Return random floats in the half-open interval [0.0, 1.0).\n",
    "# https://docs.scipy.org/doc/numpy/reference/generated/numpy.random.random.html"
   ]
  },
  {
   "cell_type": "code",
   "execution_count": 17,
   "metadata": {},
   "outputs": [
    {
     "name": "stdout",
     "output_type": "stream",
     "text": [
      "[100. 100. 100. 100. 100. 100.]\n",
      "100.0\n",
      "(5, 6)\n",
      "# Method 1\n",
      "[79.5 76.5 73.9 74.2 64.5]\n",
      "# Method 2\n",
      "[79.5 76.5 73.9 74.2 64.5]\n",
      "[ 6.2   8.6   6.7  15.02 15.6  21.6 ]\n"
     ]
    }
   ],
   "source": [
    "\n",
    "# Problem 2:\n",
    "# Six homework scores from five student , show the each student total scores by the weights \n",
    "\n",
    "weights = np.array( [0.1, 0.1,0.1,0.2, 0.2, 0.3 ])\n",
    "# test perfect score\n",
    "full_score = np.ones(6)*100\n",
    "#full_score = 100\n",
    "print(full_score)\n",
    "\n",
    "perfect = sum(full_score*weights)\n",
    "print(perfect)\n",
    "#student homework\n",
    "# Read six homework, from 5 studennts\n",
    "scores = np.array([[58, 96, 65, 78.5, 76, 89],\n",
    "                 [58, 96, 65, 78.5, 76, 79],\n",
    "                 [58, 86, 95, 72.5, 86, 61],\n",
    "                 [68, 56, 45, 67.5, 96, 82],\n",
    "                 [68, 96, 65, 78.5, 56, 49]] )\n",
    "\n",
    "print(scores.shape)\n",
    "\n",
    "num_student = len(scores)\n",
    "final_scores = np.zeros(len(scores))\n",
    "\n",
    "\n",
    "\n",
    "# scores for each student\n",
    "scores = final_scores.sum(axis = 1)\n",
    "print(scores)\n",
    "\n",
    "# Average score\n",
    "scores = final_scores.mean(axis = 0)\n",
    "print(scores)\n"
   ]
  }
 ],
 "metadata": {
  "kernelspec": {
   "display_name": "Python 3",
   "language": "python",
   "name": "python3"
  },
  "language_info": {
   "codemirror_mode": {
    "name": "ipython",
    "version": 3
   },
   "file_extension": ".py",
   "mimetype": "text/x-python",
   "name": "python",
   "nbconvert_exporter": "python",
   "pygments_lexer": "ipython3",
   "version": "3.7.6"
  }
 },
 "nbformat": 4,
 "nbformat_minor": 2
}
