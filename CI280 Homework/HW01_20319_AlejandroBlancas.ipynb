{
 "cells": [
  {
   "cell_type": "markdown",
   "metadata": {},
   "source": [
    "# Homework 1 (20 pts)\n",
    "\n",
    "## Due Date: 10/13/2020 ( Tuesday 11:59PM)\n",
    "\n",
    "Save Notebook file as :HW1_LastFourDigitsofYourStudentID_YourName.ipynb\n",
    "\n",
    "Email to: jzhang@eastwest.edu\n",
    "\n",
    "Subject: CI280 Homework 1 "
   ]
  },
  {
   "cell_type": "markdown",
   "metadata": {},
   "source": [
    "Ch02 Input, Output\n",
    "\n",
    "Problem 1: Computer present value ( Input , compute and output: 2 points)\n",
    "\n",
    "present_value = future_value / ( 1.0 + rate) ** years"
   ]
  },
  {
   "cell_type": "code",
   "execution_count": 7,
   "metadata": {},
   "outputs": [
    {
     "name": "stdout",
     "output_type": "stream",
     "text": [
      "Enter future value: 10000\n",
      "Enter interest value: 0.05\n",
      "Enter a year: 10\n",
      "Present value: $ 6139.13\n"
     ]
    }
   ],
   "source": [
    "# Problem 1: (2 pts)\n",
    "\n",
    "# Input (1 point)\n",
    "future_value = float(input('Enter future value: '))\n",
    "rate = float(input('Enter interest value: '))\n",
    "year = int(input('Enter a year: '))\n",
    "\n",
    "# Compute (1 point)\n",
    "present_value = future_value / ( 1.0 + rate) ** year\n",
    "\n",
    "# Output \n",
    "print('Present value: $', format(present_value, \".2f\"))"
   ]
  },
  {
   "cell_type": "markdown",
   "metadata": {},
   "source": [
    "Ch03 Decision -- if ... else ...\n",
    "\n",
    "Problem 2: Software Sales (Page 154) ( 5 pts)\n",
    "A softare company sells a package that retais for $99. Quantity discounts are given according to following table:\n",
    "    Quantity     Discount\n",
    "    10 - 19       10%\n",
    "    20 - 49       20%\n",
    "    50 - 99       30%\n",
    "    100 or more   40%\n",
    "    \n",
    "Write a program that ask the uer to enter number of packages, and display the dicount rate, discount and total pay.\n",
    "\n",
    "    Declare constant variables -- 1 pt\n",
    "    Input                      -- 1 pt\n",
    "    Compute discount rate      -- 2 pts\n",
    "    Compute other              -- 1 pt\n",
    "    -----------------------------------\n",
    "    Total points                  5 pts"
   ]
  },
  {
   "cell_type": "code",
   "execution_count": 13,
   "metadata": {},
   "outputs": [
    {
     "name": "stdout",
     "output_type": "stream",
     "text": [
      "Enter number of package purchased: 24\n",
      "\n",
      "Amount of discount: $475.20\n",
      "Total amount: $2,376.00\n"
     ]
    }
   ],
   "source": [
    "# Problem 2: (5 pts)\n",
    "# Get input\n",
    "numPackage = int(input('Enter number of package purchased: '))\n",
    "# Compute\n",
    "packagePrice = 99\n",
    "\n",
    "if numPackage < 10:\n",
    "    discount = 0;\n",
    "elif numPackage < 20:\n",
    "    discount = 0.10\n",
    "elif numPackage < 50:\n",
    "    discount = 0.20\n",
    "elif numPackage < 100:\n",
    "    discount = 0.30\n",
    "else:\n",
    "    discount = 0.40\n",
    "\n",
    "subTotal = numPackage * packagePrice\n",
    "discountAmount = discount * subTotal\n",
    "total = subTotal - discountAmount\n",
    "\n",
    "print(\"\\nAmount of discount: $\" + format(discountAmount,\",.2f\") + \\\n",
    "     \"\\nTotal amount: $\" + format(subTotal, \",.2f\" ))\n"
   ]
  },
  {
   "cell_type": "markdown",
   "metadata": {},
   "source": [
    "Ch04 Loop\n",
    "\n",
    "Problem 3: Tuition Increase ( 3 pts)\n",
    "At one college, the tuition for a full-time student is $8000 per semsestr. \n",
    "The college will incease the tuituin by 3% per year for next five years.\n",
    "Write a program to display the projected tuition amount for the next five years\n",
    "\n",
    "    Declare constant variables \n",
    "    loop and Compute           -- 2 pts\n",
    "    Display format             -- 1 pts\n",
    "    -----------------------------------\n",
    "    Total points                  3 pts"
   ]
  },
  {
   "cell_type": "code",
   "execution_count": 122,
   "metadata": {
    "scrolled": false
   },
   "outputs": [
    {
     "name": "stdout",
     "output_type": "stream",
     "text": [
      "Projected Tuition for the next five years\n",
      "Year \t\t Tuition\n",
      "--------------------------\n",
      "1 \t\t $ 8000.0\n",
      "2 \t\t $ 8240.0\n",
      "3 \t\t $ 8487.2\n",
      "4 \t\t $ 8741.8\n",
      "5 \t\t $ 9004.1\n"
     ]
    }
   ],
   "source": [
    "# Problem 3: (3 pts)\n",
    "currentTuition = 8000\n",
    "increaserate = 0.03\n",
    "i = 0 #increment do while loop\n",
    "print('Projected Tuition for the next five years')\n",
    "print('Year \\t\\t Tuition')\n",
    "print('--------------------------')\n",
    "print(f'{i+1} \\t\\t $ {currentTuition:.1f}')#originalTuition\n",
    "#do while loop\n",
    "while True: \n",
    "    currentTuition += (currentTuition * increaserate)\n",
    "    print(f'{i+2} \\t\\t $ {currentTuition:.1f}')\n",
    "    i = i + 1\n",
    "    if(i > 3):\n",
    "        break\n"
   ]
  },
  {
   "cell_type": "markdown",
   "metadata": {},
   "source": [
    "Ch05 Function\n",
    "\n",
    "Problem 4: ( 4 pts)\n",
    "Write a function to generate random numbers, and keep a count how many are even numbers, and how many are odd numbers,\n",
    "and return two counts\n",
    "\n",
    "Generate 100 random numbers to show the ratio.\n",
    "Generate 1000 random numbers to show the ratio.\n",
    "Generate 10000 random numbers to show the ratio.\n",
    "\n",
    "Hints: \n",
    "Use random.randint(0,x) to generate a random number\n",
    "Use num%2 == 0 to check is it is even number\n",
    "\n",
    "    Define function: 3 pts\n",
    "    Invoke function: 1 pts\n",
    "    Total: 4 pts"
   ]
  },
  {
   "cell_type": "code",
   "execution_count": 1,
   "metadata": {},
   "outputs": [
    {
     "name": "stdout",
     "output_type": "stream",
     "text": [
      "[236, 511, 525, 434, 660, 940, 940, 490, 954, 948, 465, 703, 881, 778, 702, 716, 397, 787, 406, 139, 331, 471, 958, 857, 316, 380, 944, 851, 715, 420, 79, 804, 372, 162, 335, 738, 454, 950, 260, 243, 685, 104, 536, 585, 29, 793, 712, 990, 355, 872, 808, 404, 968, 240, 103, 282, 780, 204, 498, 962, 825, 479, 551, 898, 489, 568, 158, 40, 966, 225, 529, 396, 654, 208, 61, 289, 28, 495, 773, 151, 790, 93, 709, 69, 451, 15, 761, 647, 300, 912, 560, 898, 36, 646, 398, 905, 528, 742, 672, 566, 63, 924, 866, 907, 524, 30, 252, 725, 795, 777, 397, 77, 481, 600, 965, 493, 736, 892, 572, 318, 148, 86, 894, 552, 186, 581, 553, 406, 811, 814, 981, 643, 129, 203, 986, 963, 96, 867, 929, 95, 918, 456, 996, 183, 141, 203, 518, 553, 764, 659, 863, 781, 666, 768, 370, 330, 565, 421, 806, 943, 26, 962, 710, 897, 960, 461, 817, 230, 419, 619, 242, 346, 64, 121, 84, 18, 229, 286, 880, 639, 205, 321, 485, 672, 723, 135, 9, 772, 402, 167, 38, 663, 568, 993, 462, 31, 847, 169, 848, 770, 660, 440, 900, 144, 174, 37, 983, 929, 750, 78, 982, 829, 791, 510, 240, 549, 333, 986, 896, 460, 792, 307, 844, 222, 891, 24, 787, 642, 760, 256, 94, 344, 640, 447, 974, 617, 585, 540, 378, 315, 664, 932, 542, 344, 131, 30, 537, 183, 258, 357, 275, 994, 160, 761, 91, 731, 108, 736, 473, 446, 229, 882, 190, 206, 666, 106, 51, 669, 46, 360, 377, 241, 355, 612, 740, 283, 516, 323, 435, 996, 348, 881, 62, 994, 808, 21, 88, 369, 504, 213, 574, 995, 373, 151, 127, 266, 316, 18, 311, 748, 932, 508, 392, 844, 360, 801, 598, 492, 122, 373, 205, 550, 136, 791, 905, 295, 27, 912, 332, 487, 363, 790, 37, 766, 216, 315, 601, 246, 721, 407, 45, 927, 799, 25, 6, 256, 747, 54, 111, 882, 827, 133, 467, 87, 462, 982, 529, 738, 519, 937, 782, 715, 379, 961, 900, 766, 937, 166, 390, 546, 878, 797, 138, 424, 830, 454, 710, 706, 568, 818, 900, 56, 455, 417, 422, 441, 950, 197, 773, 400, 986, 578, 96, 785, 342, 809, 455, 570, 411, 251, 467, 646, 730, 60, 138, 822, 948, 795, 12, 105, 872, 951, 178, 297, 304, 591, 17, 187, 3, 213, 643, 422, 393, 228, 756, 862, 596, 99, 902, 978, 167, 488, 114, 177, 502, 750, 89, 923, 881, 885, 812, 776, 240, 215, 127, 563, 391, 94, 846, 495, 265, 320, 711, 489, 853, 745, 404, 135, 893, 658, 531, 267, 14, 384, 340, 746, 602, 376, 201, 368, 152, 59, 744, 612, 109, 767, 290, 803, 155, 236, 552, 877, 34, 267, 509, 307, 291, 461, 428, 866, 982, 380, 641, 538, 225, 976, 862, 24, 256, 208, 334, 800, 121, 114, 469, 535, 729, 26, 530, 744, 239, 12, 577, 464, 111, 974, 454, 774, 743, 959, 838, 997, 429, 251, 817, 158, 310, 420, 424, 553, 107, 20, 546, 626, 19, 183, 868, 954, 444, 667, 393, 247, 481, 618, 485, 733, 829, 862, 709, 135, 410, 542, 846, 25, 449, 299, 903, 351, 394, 893, 961, 416, 585, 25, 874, 498, 403, 474, 169, 330, 565, 505, 451, 527, 402, 475, 639, 649, 359, 68, 561, 336, 60, 927, 557, 310, 328, 195, 757, 421, 603, 4, 198, 22, 388, 862, 945, 111, 745, 730, 687, 224, 772, 897, 981, 1000, 515, 860, 551, 954, 315, 713, 174, 94, 331, 874, 394, 276, 722, 741, 625, 780, 667, 230, 331, 682, 681, 982, 905, 576, 738, 223, 262, 937, 166, 138, 427, 691, 333, 987, 164, 743, 658, 298, 283, 511, 365, 551, 929, 279, 608, 188, 221, 298, 846, 27, 248, 935, 225, 402, 10, 225, 221, 248, 930, 235, 257, 617, 902, 446, 41, 968, 913, 193, 455, 59, 295, 117, 884, 264, 499, 343, 148, 757, 439, 686, 239, 774, 652, 51, 594, 827, 39, 353, 982, 756, 644, 62, 788, 399, 155, 278, 921, 763, 381, 391, 324, 646, 508, 10, 843, 550, 975, 646, 695, 726, 578, 511, 741, 504, 682, 835, 470, 950, 616, 391, 958, 120, 775, 945, 606, 1000, 587, 423, 638, 323, 162, 233, 601, 221, 297, 502, 352, 334, 377, 940, 968, 907, 88, 485, 585, 441, 656, 134, 604, 719, 799, 504, 292, 210, 451, 119, 570, 428, 984, 665, 566, 862, 387, 37, 848, 856, 778, 877, 40, 632, 420, 824, 199, 552, 215, 918, 775, 446, 704, 540, 1, 910, 870, 75, 118, 291, 367, 502, 683, 523, 915, 671, 888, 884, 35, 437, 184, 775, 875, 883, 769, 125, 505, 110, 41, 813, 910, 854, 580, 93, 552, 670, 31, 308, 603, 352, 338, 880, 88, 589, 200, 560, 998, 615, 790, 538, 414, 594, 593, 400, 954, 566, 316, 8, 811, 354, 223, 650, 576, 272, 770, 217, 444, 259, 914, 151, 681, 691, 365, 583, 938, 260, 139, 605, 766, 843, 441, 478, 182, 411, 816, 98, 932, 882, 204, 988, 233, 576, 299, 766, 443, 712, 417, 267, 260, 97, 427, 291, 898, 592, 529, 709, 901, 882, 586, 90, 221, 99, 94, 528, 345, 754, 22, 428, 712, 104, 477, 493, 642, 897, 319, 979, 961, 357, 583, 975, 206, 292, 252, 493, 343, 488, 64, 749, 108, 349, 909, 848, 542, 37, 999, 966, 950, 85, 459, 899, 105, 697, 69, 221, 683, 889, 721, 464, 520, 59, 89, 990, 324, 741, 152, 939, 913, 92, 82, 418, 390, 237, 320, 888, 476, 68, 737, 735, 29, 190, 136, 554, 379, 675, 189, 928, 401, 504, 695, 861, 28, 526, 135, 631, 985, 911, 390, 188, 812, 548, 262, 580, 475, 886, 795, 884, 33, 316, 6, 41, 102, 366, 250, 981, 142, 89, 392, 719, 378, 201, 110, 738, 561, 128, 291, 341, 786, 659]\n",
      "476 524\n"
     ]
    }
   ],
   "source": [
    "# Problem 4 (6 pts)\n",
    "import random\n",
    "\n",
    "# Define the function here\n",
    "def main():\n",
    "    numberList = []\n",
    "    for i in range(1000):\n",
    "        numberList.append(random.randint(1,1000))\n",
    "    oddCount = 0\n",
    "    evenCount = 0\n",
    "    print(numberList)\n",
    "    for number in numberList:\n",
    "        if number%2 == 0:\n",
    "            evenCount += 1\n",
    "        else:\n",
    "            oddCount += 1\n",
    "    print(oddCount, evenCount)\n",
    "# Invoke function here\n",
    "main()"
   ]
  },
  {
   "cell_type": "code",
   "execution_count": null,
   "metadata": {},
   "outputs": [],
   "source": []
  }
 ],
 "metadata": {
  "kernelspec": {
   "display_name": "Python 3",
   "language": "python",
   "name": "python3"
  },
  "language_info": {
   "codemirror_mode": {
    "name": "ipython",
    "version": 3
   },
   "file_extension": ".py",
   "mimetype": "text/x-python",
   "name": "python",
   "nbconvert_exporter": "python",
   "pygments_lexer": "ipython3",
   "version": "3.7.6"
  }
 },
 "nbformat": 4,
 "nbformat_minor": 2
}
